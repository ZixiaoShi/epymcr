{
 "cells": [
  {
   "cell_type": "markdown",
   "metadata": {
    "collapsed": true
   },
   "source": [
    "This is a simple Python package used for the paper \"Building Energy Model Reduction using Model-Cluster-Reduce Pipeline\" published on Journal of Building Performance Simulation. It is used to perform model order reduction on EnergyPlus models. This readme includes a simple introduction to how to use this code. Other packages required for this tool are: eppy, sklearn, pandas and numpy.\n",
    "\n",
    "This package does not include codes to make the reduced model 100% ready for simulation. Other modifications such as HVAC system node elimination may required. It is recommend to use HVAC template for the reduced model in this case. Future updates will improve the functionality of this tool."
   ]
  },
  {
   "cell_type": "markdown",
   "metadata": {},
   "source": [
    "First we import and initiate the ModelClusterReduce class. Note a default .idd file for EnergyPlus 8.5 is provided. However, for newer EnergyPlus versions, .idd file may need to be manually defined."
   ]
  },
  {
   "cell_type": "code",
   "execution_count": 1,
   "metadata": {
    "collapsed": true
   },
   "outputs": [],
   "source": [
    "from IdfPipeline import ModelClusterReduce\n",
    "test_pipeline = ModelClusterReduce(\"sample_data/CB_Original.idf\", idd_path=\"data/V8-5-0-Energy+.idd\")"
   ]
  },
  {
   "cell_type": "markdown",
   "metadata": {},
   "source": [
    "After the pipeline is initiated, we can perform the model procedure by providing the .eso file -- standard EnergyPlus output file. Currently two model approahes are provided, PCA (.model_pca) and time series (.model_timeseries)."
   ]
  },
  {
   "cell_type": "code",
   "execution_count": 2,
   "metadata": {},
   "outputs": [],
   "source": [
    "%%capture\n",
    "# First with PCA method\n",
    "# PCA requires a list of variables to be read from the .eso file\n",
    "# A default list of variables are provided, however, it can be modified for different applications\n",
    "# First define common variables used for all zones, such as outdoor air temperature, etc.\n",
    "common_variables = [\"Site Solar Azimuth Angle\",\n",
    "          \"Site Solar Altitude Angle\",\n",
    "          \"Site Diffuse Solar Radiation Rate per Area\",\n",
    "          \"Site Direct Solar Radiation Rate per Area\",\n",
    "          \"Site Outdoor Air Drybulb Temperature\"\n",
    "          ]\n",
    "\n",
    "# Next define zone variables, such as air temperature for each zone\n",
    "zone_variables = [\"Zone Mean Air Temperature\",\n",
    "        \"Zone Air System Sensible Heating Rate\"]\n",
    "\n",
    "# After the definition of variables is complete, the PCA modeling process can start\n",
    "test_pipeline.model_pca(\"sample_data/CB_Original.eso\", \n",
    "                        timestep=\"Hourly\", common_variables=common_variables, zone_variables=zone_variables)"
   ]
  },
  {
   "cell_type": "code",
   "execution_count": 3,
   "metadata": {},
   "outputs": [],
   "source": [
    "%%capture\n",
    "# Next with time series method\n",
    "# This method is more straight forward, only one unique zone variable is required\n",
    "# This variable will then be normalized by floor area and min-max normalization\n",
    "test_pipeline.model_timeseries(\"sample_data/CB_Original.eso\", \"Zone Air System Sensible Heating Rate\")"
   ]
  },
  {
   "cell_type": "markdown",
   "metadata": {},
   "source": [
    "After the model step is done, a clustering process can be performed to identify archetype zones. Note oscillation may occur when using Affinity Propagation, so damping factor may need to be changed."
   ]
  },
  {
   "cell_type": "code",
   "execution_count": 4,
   "metadata": {},
   "outputs": [
    {
     "name": "stdout",
     "output_type": "stream",
     "text": [
      "Estimated number of clusters: 94\n"
     ]
    }
   ],
   "source": [
    "test_pipeline.cluster()"
   ]
  },
  {
   "cell_type": "markdown",
   "metadata": {},
   "source": [
    "Looks like there this is a case of oscillation, so we can try a damping factor of 0.7 instead."
   ]
  },
  {
   "cell_type": "code",
   "execution_count": 5,
   "metadata": {},
   "outputs": [
    {
     "name": "stdout",
     "output_type": "stream",
     "text": [
      "Estimated number of clusters: 13\n"
     ]
    }
   ],
   "source": [
    "test_pipeline.cluster(damping=0.7)"
   ]
  },
  {
   "cell_type": "markdown",
   "metadata": {},
   "source": [
    "Now the damping issue is solved, the reduced model can then be produced. There are two ways to calculate scale factors for archetype zones, one is to use floor area (\"Area\"), another is to use zone volume (\"Volume\")."
   ]
  },
  {
   "cell_type": "code",
   "execution_count": 6,
   "metadata": {},
   "outputs": [
    {
     "name": "stdout",
     "output_type": "stream",
     "text": [
      "The reduced model has 13 zones, 201 walls and 22 sub-surfaces\n"
     ]
    }
   ],
   "source": [
    "test_pipeline.reduce(output=\"sample_data/CB_reduced.idf\", normalization_method=\"Area\")"
   ]
  }
 ],
 "metadata": {
  "kernelspec": {
   "display_name": "Python 3",
   "language": "python",
   "name": "python3"
  },
  "language_info": {
   "codemirror_mode": {
    "name": "ipython",
    "version": 3.0
   },
   "file_extension": ".py",
   "mimetype": "text/x-python",
   "name": "python",
   "nbconvert_exporter": "python",
   "pygments_lexer": "ipython3",
   "version": "3.6.2"
  }
 },
 "nbformat": 4,
 "nbformat_minor": 0
}